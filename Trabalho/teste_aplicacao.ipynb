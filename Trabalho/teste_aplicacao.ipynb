{
 "cells": [
  {
   "cell_type": "code",
   "execution_count": 33,
   "metadata": {},
   "outputs": [],
   "source": [
    "import pickle\n",
    "import numpy as np\n",
    "import pandas as pd\n",
    "import os \n",
    "\n",
    "os.chdir('D:\\\\Users\\\\krums\\\\Documents\\\\MBA FIAP IA\\Bootcamp IA & Machine Learning\\\\bootcamp-22ia-grupola')\n",
    "\n",
    "df = pd.read_csv('Dados\\\\Base_Clientes.txt')\n",
    "\n",
    "def predict_age(ID_Cliente):\n",
    "    predict = df.loc[df[\"ID_Cliente\"]==ID_Cliente]\n",
    "    prediction = predict[\"Aprovado\"]\n",
    "    return prediction.values[0]\n",
    "\n",
    "def predict_minimo(ID_Cliente):\n",
    "    predict = df.loc[df[\"ID_Cliente\"]==ID_Cliente]\n",
    "    prediction = predict[\"Minimo\"]\n",
    "    return prediction.values[0]"
   ]
  },
  {
   "cell_type": "code",
   "execution_count": 34,
   "metadata": {},
   "outputs": [],
   "source": [
    "ID_Cliente = 2\n",
    "valorSolicitado = 1000"
   ]
  },
  {
   "cell_type": "code",
   "execution_count": 36,
   "metadata": {},
   "outputs": [],
   "source": [
    "output = predict_age(ID_Cliente)\n",
    "minimo = predict_minimo(ID_Cliente)\n",
    "reprovado_html='não fodase'\n",
    "aprovado_html='yea'\n"
   ]
  },
  {
   "cell_type": "code",
   "execution_count": null,
   "metadata": {},
   "outputs": [
    {
     "data": {
      "text/plain": [
       "'B'"
      ]
     },
     "execution_count": 29,
     "metadata": {},
     "output_type": "execute_result"
    }
   ],
   "source": [
    "output"
   ]
  },
  {
   "cell_type": "code",
   "execution_count": 25,
   "metadata": {},
   "outputs": [
    {
     "name": "stdout",
     "output_type": "stream",
     "text": [
      "O crédito concedido ao cliente é: ['B']\n",
      "não fodase\n"
     ]
    }
   ],
   "source": [
    "print('O crédito concedido ao cliente é: {}'.format(output))\n",
    "if output == 'B':\n",
    "    print(reprovado_html)\n",
    "else:\n",
    "    print(aprovado_html)"
   ]
  },
  {
   "cell_type": "code",
   "execution_count": null,
   "metadata": {},
   "outputs": [],
   "source": []
  }
 ],
 "metadata": {
  "kernelspec": {
   "display_name": "Python 3.10.4 ('base_python')",
   "language": "python",
   "name": "python3"
  },
  "language_info": {
   "codemirror_mode": {
    "name": "ipython",
    "version": 3
   },
   "file_extension": ".py",
   "mimetype": "text/x-python",
   "name": "python",
   "nbconvert_exporter": "python",
   "pygments_lexer": "ipython3",
   "version": "3.10.4"
  },
  "orig_nbformat": 4,
  "vscode": {
   "interpreter": {
    "hash": "1691a9acbc059c8b2376dece457e1411667525651cda6e37f6b1301c809083b0"
   }
  }
 },
 "nbformat": 4,
 "nbformat_minor": 2
}
